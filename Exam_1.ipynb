{
  "nbformat": 4,
  "nbformat_minor": 0,
  "metadata": {
    "colab": {
      "provenance": []
    },
    "kernelspec": {
      "name": "python3",
      "display_name": "Python 3"
    },
    "language_info": {
      "name": "python"
    }
  },
  "cells": [
    {
      "cell_type": "markdown",
      "source": [
        "Midterm Exams"
      ],
      "metadata": {
        "id": "4g5l1KELLVmO"
      }
    },
    {
      "cell_type": "code",
      "source": [
        "import pandas as pd\n",
        "import numpy as np\n",
        "import matplotlib.pyplot as plt\n",
        "import seaborn as sns\n",
        "import statsmodels.api as sm\n",
        "\n",
        "from sklearn.metrics import r2_score\n",
        "from sklearn.model_selection import train_test_split\n",
        "from sklearn.preprocessing import MinMaxScaler, StandardScaler\n",
        "from sklearn.neighbors import KNeighborsRegressor\n",
        "from sklearn.linear_model import LinearRegression\n",
        "from sklearn.metrics import mean_squared_error, r2_score"
      ],
      "metadata": {
        "id": "yC3wMrcVLXld"
      },
      "execution_count": 1578,
      "outputs": []
    },
    {
      "cell_type": "code",
      "source": [
        "df_train=pd.read_csv('train.csv')\n",
        "\n",
        "test_url = 'https://github.com/robitussin/CCMACLRL_EXAM/blob/a46a4e2a001dedaefc9b431d480b508ce86c2d96/datasets/test.csv?raw=true'\n",
        "dt=pd.read_csv(test_url)\n",
        "\n",
        "sample_submission_url = 'https://github.com/robitussin/CCMACLRL_EXAM/blob/a46a4e2a001dedaefc9b431d480b508ce86c2d96/datasets/sample_submission.csv?raw=true'\n",
        "\n",
        "sf=pd.read_csv(sample_submission_url)"
      ],
      "metadata": {
        "id": "Rgfzx8QTLmUN"
      },
      "execution_count": 1579,
      "outputs": []
    },
    {
      "cell_type": "code",
      "source": [
        "df_train.shape"
      ],
      "metadata": {
        "collapsed": true,
        "id": "jDpyZrx9OGo8",
        "colab": {
          "base_uri": "https://localhost:8080/"
        },
        "outputId": "a6b276d0-8905-438e-ec58-06ae7efe6dd7"
      },
      "execution_count": 1580,
      "outputs": [
        {
          "output_type": "execute_result",
          "data": {
            "text/plain": [
              "(188533, 13)"
            ]
          },
          "metadata": {},
          "execution_count": 1580
        }
      ]
    },
    {
      "cell_type": "code",
      "source": [
        "drop_col=['id','ext_col', 'int_col']\n",
        "df_train.drop(drop_col,inplace=True,axis=1)\n",
        "object_columns = df_train.select_dtypes(include=['object']).columns\n",
        "df_train[object_columns]"
      ],
      "metadata": {
        "id": "d_NI6MIO_Hwg",
        "colab": {
          "base_uri": "https://localhost:8080/",
          "height": 754
        },
        "outputId": "b7412b53-edf6-4e8b-d2a2-183f243e0cbd"
      },
      "execution_count": 1581,
      "outputs": [
        {
          "output_type": "execute_result",
          "data": {
            "text/plain": [
              "                brand                     model      fuel_type  \\\n",
              "0                MINI             Cooper S Base       Gasoline   \n",
              "1             Lincoln                     LS V8       Gasoline   \n",
              "2           Chevrolet         Silverado 2500 LT  E85 Flex Fuel   \n",
              "3             Genesis          G90 5.0 Ultimate       Gasoline   \n",
              "4       Mercedes-Benz               Metris Base       Gasoline   \n",
              "...               ...                       ...            ...   \n",
              "188528       Cadillac     Escalade ESV Platinum       Gasoline   \n",
              "188529  Mercedes-Benz  AMG C 43 AMG C 43 4MATIC       Gasoline   \n",
              "188530  Mercedes-Benz    AMG GLC 63 Base 4MATIC       Gasoline   \n",
              "188531           Audi          S5 3.0T Prestige       Gasoline   \n",
              "188532        Porsche                Macan Base       Gasoline   \n",
              "\n",
              "                                                   engine  \\\n",
              "0            172.0HP 1.6L 4 Cylinder Engine Gasoline Fuel   \n",
              "1            252.0HP 3.9L 8 Cylinder Engine Gasoline Fuel   \n",
              "2       320.0HP 5.3L 8 Cylinder Engine Flex Fuel Capab...   \n",
              "3            420.0HP 5.0L 8 Cylinder Engine Gasoline Fuel   \n",
              "4            208.0HP 2.0L 4 Cylinder Engine Gasoline Fuel   \n",
              "...                                                   ...   \n",
              "188528       420.0HP 6.2L 8 Cylinder Engine Gasoline Fuel   \n",
              "188529      385.0HP 3.0L V6 Cylinder Engine Gasoline Fuel   \n",
              "188530       469.0HP 4.0L 8 Cylinder Engine Gasoline Fuel   \n",
              "188531                                               3.0L   \n",
              "188532       252.0HP 2.0L 4 Cylinder Engine Gasoline Fuel   \n",
              "\n",
              "                          transmission  \\\n",
              "0                                  A/T   \n",
              "1                                  A/T   \n",
              "2                                  A/T   \n",
              "3       Transmission w/Dual Shift Mode   \n",
              "4                          7-Speed A/T   \n",
              "...                                ...   \n",
              "188528  Transmission w/Dual Shift Mode   \n",
              "188529                     8-Speed A/T   \n",
              "188530                     7-Speed A/T   \n",
              "188531               1-Speed Automatic   \n",
              "188532  Transmission w/Dual Shift Mode   \n",
              "\n",
              "                                      accident clean_title  \n",
              "0                                None reported         Yes  \n",
              "1       At least 1 accident or damage reported         Yes  \n",
              "2                                None reported         Yes  \n",
              "3                                None reported         Yes  \n",
              "4                                None reported         Yes  \n",
              "...                                        ...         ...  \n",
              "188528                           None reported         Yes  \n",
              "188529  At least 1 accident or damage reported         Yes  \n",
              "188530                           None reported         Yes  \n",
              "188531                           None reported         NaN  \n",
              "188532                           None reported         Yes  \n",
              "\n",
              "[188533 rows x 7 columns]"
            ],
            "text/html": [
              "\n",
              "  <div id=\"df-0a5e1883-8c82-4c8b-b11b-c054543b34bb\" class=\"colab-df-container\">\n",
              "    <div>\n",
              "<style scoped>\n",
              "    .dataframe tbody tr th:only-of-type {\n",
              "        vertical-align: middle;\n",
              "    }\n",
              "\n",
              "    .dataframe tbody tr th {\n",
              "        vertical-align: top;\n",
              "    }\n",
              "\n",
              "    .dataframe thead th {\n",
              "        text-align: right;\n",
              "    }\n",
              "</style>\n",
              "<table border=\"1\" class=\"dataframe\">\n",
              "  <thead>\n",
              "    <tr style=\"text-align: right;\">\n",
              "      <th></th>\n",
              "      <th>brand</th>\n",
              "      <th>model</th>\n",
              "      <th>fuel_type</th>\n",
              "      <th>engine</th>\n",
              "      <th>transmission</th>\n",
              "      <th>accident</th>\n",
              "      <th>clean_title</th>\n",
              "    </tr>\n",
              "  </thead>\n",
              "  <tbody>\n",
              "    <tr>\n",
              "      <th>0</th>\n",
              "      <td>MINI</td>\n",
              "      <td>Cooper S Base</td>\n",
              "      <td>Gasoline</td>\n",
              "      <td>172.0HP 1.6L 4 Cylinder Engine Gasoline Fuel</td>\n",
              "      <td>A/T</td>\n",
              "      <td>None reported</td>\n",
              "      <td>Yes</td>\n",
              "    </tr>\n",
              "    <tr>\n",
              "      <th>1</th>\n",
              "      <td>Lincoln</td>\n",
              "      <td>LS V8</td>\n",
              "      <td>Gasoline</td>\n",
              "      <td>252.0HP 3.9L 8 Cylinder Engine Gasoline Fuel</td>\n",
              "      <td>A/T</td>\n",
              "      <td>At least 1 accident or damage reported</td>\n",
              "      <td>Yes</td>\n",
              "    </tr>\n",
              "    <tr>\n",
              "      <th>2</th>\n",
              "      <td>Chevrolet</td>\n",
              "      <td>Silverado 2500 LT</td>\n",
              "      <td>E85 Flex Fuel</td>\n",
              "      <td>320.0HP 5.3L 8 Cylinder Engine Flex Fuel Capab...</td>\n",
              "      <td>A/T</td>\n",
              "      <td>None reported</td>\n",
              "      <td>Yes</td>\n",
              "    </tr>\n",
              "    <tr>\n",
              "      <th>3</th>\n",
              "      <td>Genesis</td>\n",
              "      <td>G90 5.0 Ultimate</td>\n",
              "      <td>Gasoline</td>\n",
              "      <td>420.0HP 5.0L 8 Cylinder Engine Gasoline Fuel</td>\n",
              "      <td>Transmission w/Dual Shift Mode</td>\n",
              "      <td>None reported</td>\n",
              "      <td>Yes</td>\n",
              "    </tr>\n",
              "    <tr>\n",
              "      <th>4</th>\n",
              "      <td>Mercedes-Benz</td>\n",
              "      <td>Metris Base</td>\n",
              "      <td>Gasoline</td>\n",
              "      <td>208.0HP 2.0L 4 Cylinder Engine Gasoline Fuel</td>\n",
              "      <td>7-Speed A/T</td>\n",
              "      <td>None reported</td>\n",
              "      <td>Yes</td>\n",
              "    </tr>\n",
              "    <tr>\n",
              "      <th>...</th>\n",
              "      <td>...</td>\n",
              "      <td>...</td>\n",
              "      <td>...</td>\n",
              "      <td>...</td>\n",
              "      <td>...</td>\n",
              "      <td>...</td>\n",
              "      <td>...</td>\n",
              "    </tr>\n",
              "    <tr>\n",
              "      <th>188528</th>\n",
              "      <td>Cadillac</td>\n",
              "      <td>Escalade ESV Platinum</td>\n",
              "      <td>Gasoline</td>\n",
              "      <td>420.0HP 6.2L 8 Cylinder Engine Gasoline Fuel</td>\n",
              "      <td>Transmission w/Dual Shift Mode</td>\n",
              "      <td>None reported</td>\n",
              "      <td>Yes</td>\n",
              "    </tr>\n",
              "    <tr>\n",
              "      <th>188529</th>\n",
              "      <td>Mercedes-Benz</td>\n",
              "      <td>AMG C 43 AMG C 43 4MATIC</td>\n",
              "      <td>Gasoline</td>\n",
              "      <td>385.0HP 3.0L V6 Cylinder Engine Gasoline Fuel</td>\n",
              "      <td>8-Speed A/T</td>\n",
              "      <td>At least 1 accident or damage reported</td>\n",
              "      <td>Yes</td>\n",
              "    </tr>\n",
              "    <tr>\n",
              "      <th>188530</th>\n",
              "      <td>Mercedes-Benz</td>\n",
              "      <td>AMG GLC 63 Base 4MATIC</td>\n",
              "      <td>Gasoline</td>\n",
              "      <td>469.0HP 4.0L 8 Cylinder Engine Gasoline Fuel</td>\n",
              "      <td>7-Speed A/T</td>\n",
              "      <td>None reported</td>\n",
              "      <td>Yes</td>\n",
              "    </tr>\n",
              "    <tr>\n",
              "      <th>188531</th>\n",
              "      <td>Audi</td>\n",
              "      <td>S5 3.0T Prestige</td>\n",
              "      <td>Gasoline</td>\n",
              "      <td>3.0L</td>\n",
              "      <td>1-Speed Automatic</td>\n",
              "      <td>None reported</td>\n",
              "      <td>NaN</td>\n",
              "    </tr>\n",
              "    <tr>\n",
              "      <th>188532</th>\n",
              "      <td>Porsche</td>\n",
              "      <td>Macan Base</td>\n",
              "      <td>Gasoline</td>\n",
              "      <td>252.0HP 2.0L 4 Cylinder Engine Gasoline Fuel</td>\n",
              "      <td>Transmission w/Dual Shift Mode</td>\n",
              "      <td>None reported</td>\n",
              "      <td>Yes</td>\n",
              "    </tr>\n",
              "  </tbody>\n",
              "</table>\n",
              "<p>188533 rows × 7 columns</p>\n",
              "</div>\n",
              "    <div class=\"colab-df-buttons\">\n",
              "\n",
              "  <div class=\"colab-df-container\">\n",
              "    <button class=\"colab-df-convert\" onclick=\"convertToInteractive('df-0a5e1883-8c82-4c8b-b11b-c054543b34bb')\"\n",
              "            title=\"Convert this dataframe to an interactive table.\"\n",
              "            style=\"display:none;\">\n",
              "\n",
              "  <svg xmlns=\"http://www.w3.org/2000/svg\" height=\"24px\" viewBox=\"0 -960 960 960\">\n",
              "    <path d=\"M120-120v-720h720v720H120Zm60-500h600v-160H180v160Zm220 220h160v-160H400v160Zm0 220h160v-160H400v160ZM180-400h160v-160H180v160Zm440 0h160v-160H620v160ZM180-180h160v-160H180v160Zm440 0h160v-160H620v160Z\"/>\n",
              "  </svg>\n",
              "    </button>\n",
              "\n",
              "  <style>\n",
              "    .colab-df-container {\n",
              "      display:flex;\n",
              "      gap: 12px;\n",
              "    }\n",
              "\n",
              "    .colab-df-convert {\n",
              "      background-color: #E8F0FE;\n",
              "      border: none;\n",
              "      border-radius: 50%;\n",
              "      cursor: pointer;\n",
              "      display: none;\n",
              "      fill: #1967D2;\n",
              "      height: 32px;\n",
              "      padding: 0 0 0 0;\n",
              "      width: 32px;\n",
              "    }\n",
              "\n",
              "    .colab-df-convert:hover {\n",
              "      background-color: #E2EBFA;\n",
              "      box-shadow: 0px 1px 2px rgba(60, 64, 67, 0.3), 0px 1px 3px 1px rgba(60, 64, 67, 0.15);\n",
              "      fill: #174EA6;\n",
              "    }\n",
              "\n",
              "    .colab-df-buttons div {\n",
              "      margin-bottom: 4px;\n",
              "    }\n",
              "\n",
              "    [theme=dark] .colab-df-convert {\n",
              "      background-color: #3B4455;\n",
              "      fill: #D2E3FC;\n",
              "    }\n",
              "\n",
              "    [theme=dark] .colab-df-convert:hover {\n",
              "      background-color: #434B5C;\n",
              "      box-shadow: 0px 1px 3px 1px rgba(0, 0, 0, 0.15);\n",
              "      filter: drop-shadow(0px 1px 2px rgba(0, 0, 0, 0.3));\n",
              "      fill: #FFFFFF;\n",
              "    }\n",
              "  </style>\n",
              "\n",
              "    <script>\n",
              "      const buttonEl =\n",
              "        document.querySelector('#df-0a5e1883-8c82-4c8b-b11b-c054543b34bb button.colab-df-convert');\n",
              "      buttonEl.style.display =\n",
              "        google.colab.kernel.accessAllowed ? 'block' : 'none';\n",
              "\n",
              "      async function convertToInteractive(key) {\n",
              "        const element = document.querySelector('#df-0a5e1883-8c82-4c8b-b11b-c054543b34bb');\n",
              "        const dataTable =\n",
              "          await google.colab.kernel.invokeFunction('convertToInteractive',\n",
              "                                                    [key], {});\n",
              "        if (!dataTable) return;\n",
              "\n",
              "        const docLinkHtml = 'Like what you see? Visit the ' +\n",
              "          '<a target=\"_blank\" href=https://colab.research.google.com/notebooks/data_table.ipynb>data table notebook</a>'\n",
              "          + ' to learn more about interactive tables.';\n",
              "        element.innerHTML = '';\n",
              "        dataTable['output_type'] = 'display_data';\n",
              "        await google.colab.output.renderOutput(dataTable, element);\n",
              "        const docLink = document.createElement('div');\n",
              "        docLink.innerHTML = docLinkHtml;\n",
              "        element.appendChild(docLink);\n",
              "      }\n",
              "    </script>\n",
              "  </div>\n",
              "\n",
              "\n",
              "<div id=\"df-a4bd8840-287e-4167-81a5-ac861446a3f7\">\n",
              "  <button class=\"colab-df-quickchart\" onclick=\"quickchart('df-a4bd8840-287e-4167-81a5-ac861446a3f7')\"\n",
              "            title=\"Suggest charts\"\n",
              "            style=\"display:none;\">\n",
              "\n",
              "<svg xmlns=\"http://www.w3.org/2000/svg\" height=\"24px\"viewBox=\"0 0 24 24\"\n",
              "     width=\"24px\">\n",
              "    <g>\n",
              "        <path d=\"M19 3H5c-1.1 0-2 .9-2 2v14c0 1.1.9 2 2 2h14c1.1 0 2-.9 2-2V5c0-1.1-.9-2-2-2zM9 17H7v-7h2v7zm4 0h-2V7h2v10zm4 0h-2v-4h2v4z\"/>\n",
              "    </g>\n",
              "</svg>\n",
              "  </button>\n",
              "\n",
              "<style>\n",
              "  .colab-df-quickchart {\n",
              "      --bg-color: #E8F0FE;\n",
              "      --fill-color: #1967D2;\n",
              "      --hover-bg-color: #E2EBFA;\n",
              "      --hover-fill-color: #174EA6;\n",
              "      --disabled-fill-color: #AAA;\n",
              "      --disabled-bg-color: #DDD;\n",
              "  }\n",
              "\n",
              "  [theme=dark] .colab-df-quickchart {\n",
              "      --bg-color: #3B4455;\n",
              "      --fill-color: #D2E3FC;\n",
              "      --hover-bg-color: #434B5C;\n",
              "      --hover-fill-color: #FFFFFF;\n",
              "      --disabled-bg-color: #3B4455;\n",
              "      --disabled-fill-color: #666;\n",
              "  }\n",
              "\n",
              "  .colab-df-quickchart {\n",
              "    background-color: var(--bg-color);\n",
              "    border: none;\n",
              "    border-radius: 50%;\n",
              "    cursor: pointer;\n",
              "    display: none;\n",
              "    fill: var(--fill-color);\n",
              "    height: 32px;\n",
              "    padding: 0;\n",
              "    width: 32px;\n",
              "  }\n",
              "\n",
              "  .colab-df-quickchart:hover {\n",
              "    background-color: var(--hover-bg-color);\n",
              "    box-shadow: 0 1px 2px rgba(60, 64, 67, 0.3), 0 1px 3px 1px rgba(60, 64, 67, 0.15);\n",
              "    fill: var(--button-hover-fill-color);\n",
              "  }\n",
              "\n",
              "  .colab-df-quickchart-complete:disabled,\n",
              "  .colab-df-quickchart-complete:disabled:hover {\n",
              "    background-color: var(--disabled-bg-color);\n",
              "    fill: var(--disabled-fill-color);\n",
              "    box-shadow: none;\n",
              "  }\n",
              "\n",
              "  .colab-df-spinner {\n",
              "    border: 2px solid var(--fill-color);\n",
              "    border-color: transparent;\n",
              "    border-bottom-color: var(--fill-color);\n",
              "    animation:\n",
              "      spin 1s steps(1) infinite;\n",
              "  }\n",
              "\n",
              "  @keyframes spin {\n",
              "    0% {\n",
              "      border-color: transparent;\n",
              "      border-bottom-color: var(--fill-color);\n",
              "      border-left-color: var(--fill-color);\n",
              "    }\n",
              "    20% {\n",
              "      border-color: transparent;\n",
              "      border-left-color: var(--fill-color);\n",
              "      border-top-color: var(--fill-color);\n",
              "    }\n",
              "    30% {\n",
              "      border-color: transparent;\n",
              "      border-left-color: var(--fill-color);\n",
              "      border-top-color: var(--fill-color);\n",
              "      border-right-color: var(--fill-color);\n",
              "    }\n",
              "    40% {\n",
              "      border-color: transparent;\n",
              "      border-right-color: var(--fill-color);\n",
              "      border-top-color: var(--fill-color);\n",
              "    }\n",
              "    60% {\n",
              "      border-color: transparent;\n",
              "      border-right-color: var(--fill-color);\n",
              "    }\n",
              "    80% {\n",
              "      border-color: transparent;\n",
              "      border-right-color: var(--fill-color);\n",
              "      border-bottom-color: var(--fill-color);\n",
              "    }\n",
              "    90% {\n",
              "      border-color: transparent;\n",
              "      border-bottom-color: var(--fill-color);\n",
              "    }\n",
              "  }\n",
              "</style>\n",
              "\n",
              "  <script>\n",
              "    async function quickchart(key) {\n",
              "      const quickchartButtonEl =\n",
              "        document.querySelector('#' + key + ' button');\n",
              "      quickchartButtonEl.disabled = true;  // To prevent multiple clicks.\n",
              "      quickchartButtonEl.classList.add('colab-df-spinner');\n",
              "      try {\n",
              "        const charts = await google.colab.kernel.invokeFunction(\n",
              "            'suggestCharts', [key], {});\n",
              "      } catch (error) {\n",
              "        console.error('Error during call to suggestCharts:', error);\n",
              "      }\n",
              "      quickchartButtonEl.classList.remove('colab-df-spinner');\n",
              "      quickchartButtonEl.classList.add('colab-df-quickchart-complete');\n",
              "    }\n",
              "    (() => {\n",
              "      let quickchartButtonEl =\n",
              "        document.querySelector('#df-a4bd8840-287e-4167-81a5-ac861446a3f7 button');\n",
              "      quickchartButtonEl.style.display =\n",
              "        google.colab.kernel.accessAllowed ? 'block' : 'none';\n",
              "    })();\n",
              "  </script>\n",
              "</div>\n",
              "\n",
              "    </div>\n",
              "  </div>\n"
            ],
            "application/vnd.google.colaboratory.intrinsic+json": {
              "type": "dataframe"
            }
          },
          "metadata": {},
          "execution_count": 1581
        }
      ]
    },
    {
      "cell_type": "code",
      "source": [
        "for column in object_columns:\n",
        "    unique_values = df_train[column].unique()\n",
        "    print(f\"Unique values in '{column}':\")\n",
        "    print(unique_values)\n",
        "    print()"
      ],
      "metadata": {
        "id": "0Rlx7ZvP_qNP",
        "colab": {
          "base_uri": "https://localhost:8080/"
        },
        "outputId": "de015d7a-d218-4146-cf3b-865e86e165e9"
      },
      "execution_count": 1582,
      "outputs": [
        {
          "output_type": "stream",
          "name": "stdout",
          "text": [
            "Unique values in 'brand':\n",
            "['MINI' 'Lincoln' 'Chevrolet' 'Genesis' 'Mercedes-Benz' 'Audi' 'Ford'\n",
            " 'BMW' 'Tesla' 'Cadillac' 'Land' 'GMC' 'Toyota' 'Hyundai' 'Volvo'\n",
            " 'Volkswagen' 'Buick' 'Rivian' 'RAM' 'Hummer' 'Alfa' 'INFINITI' 'Jeep'\n",
            " 'Porsche' 'McLaren' 'Honda' 'Lexus' 'Dodge' 'Nissan' 'Jaguar' 'Acura'\n",
            " 'Kia' 'Mitsubishi' 'Rolls-Royce' 'Maserati' 'Pontiac' 'Saturn' 'Bentley'\n",
            " 'Mazda' 'Subaru' 'Ferrari' 'Aston' 'Lamborghini' 'Chrysler' 'Lucid'\n",
            " 'Lotus' 'Scion' 'smart' 'Karma' 'Plymouth' 'Suzuki' 'FIAT' 'Saab'\n",
            " 'Bugatti' 'Mercury' 'Polestar' 'Maybach']\n",
            "\n",
            "Unique values in 'model':\n",
            "['Cooper S Base' 'LS V8' 'Silverado 2500 LT' ... 'e-Golf SE'\n",
            " 'Integra w/A-Spec Tech Package' 'IONIQ Plug-In Hybrid SEL']\n",
            "\n",
            "Unique values in 'fuel_type':\n",
            "['Gasoline' 'E85 Flex Fuel' nan 'Hybrid' 'Diesel' 'Plug-In Hybrid' '–'\n",
            " 'not supported']\n",
            "\n",
            "Unique values in 'engine':\n",
            "['172.0HP 1.6L 4 Cylinder Engine Gasoline Fuel'\n",
            " '252.0HP 3.9L 8 Cylinder Engine Gasoline Fuel'\n",
            " '320.0HP 5.3L 8 Cylinder Engine Flex Fuel Capability' ...\n",
            " '78.0HP 1.2L 3 Cylinder Engine Gasoline Fuel'\n",
            " '139.0HP 1.6L 4 Cylinder Engine Plug-In Electric/Gas'\n",
            " '313.0HP 2.0L 4 Cylinder Engine Plug-In Electric/Gas']\n",
            "\n",
            "Unique values in 'transmission':\n",
            "['A/T' 'Transmission w/Dual Shift Mode' '7-Speed A/T' '8-Speed A/T'\n",
            " '10-Speed Automatic' '1-Speed A/T' '6-Speed A/T' '10-Speed A/T'\n",
            " '9-Speed A/T' '8-Speed Automatic' '9-Speed Automatic' '5-Speed A/T'\n",
            " 'Automatic' '7-Speed Automatic with Auto-Shift' 'CVT Transmission'\n",
            " '5-Speed M/T' 'M/T' '6-Speed M/T' '6-Speed Automatic' '4-Speed Automatic'\n",
            " '7-Speed M/T' '2-Speed A/T' '1-Speed Automatic' 'Automatic CVT'\n",
            " '4-Speed A/T' '6-Speed Manual' 'Transmission Overdrive Switch'\n",
            " '8-Speed Automatic with Auto-Shift' '7-Speed Manual' '7-Speed Automatic'\n",
            " '9-Speed Automatic with Auto-Shift' '6-Speed Automatic with Auto-Shift'\n",
            " '6-Speed Electronically Controlled Automatic with O' 'F' 'CVT-F'\n",
            " '8-Speed Manual' 'Manual' '–' '2' '6 Speed At/Mt' '5-Speed Automatic'\n",
            " '2-Speed Automatic' '8-SPEED A/T' '7-Speed' 'Variable'\n",
            " 'Single-Speed Fixed Gear' '8-SPEED AT'\n",
            " '10-Speed Automatic with Overdrive' '7-Speed DCT Automatic'\n",
            " 'SCHEDULED FOR OR IN PRODUCTION' '6-Speed' '6 Speed Mt']\n",
            "\n",
            "Unique values in 'accident':\n",
            "['None reported' 'At least 1 accident or damage reported' nan]\n",
            "\n",
            "Unique values in 'clean_title':\n",
            "['Yes' nan]\n",
            "\n"
          ]
        }
      ]
    },
    {
      "cell_type": "code",
      "source": [
        "from datetime import datetime\n",
        "\n",
        "current_year = datetime.now().year\n",
        "car_brands = ['MINI', 'Lincoln', 'Chevrolet', 'Genesis', 'Mercedes-Benz', 'Audi', 'Ford', 'BMW', 'Cadillac', 'Land',\n",
        "              'GMC', 'Toyota', 'Hyundai', 'Volvo', 'Volkswagen', 'Buick', 'Rivian', 'Hummer', 'Alfa', 'INFINITI',\n",
        "              'Jeep', 'Porsche', 'Honda', 'Lexus', 'Dodge', 'Nissan', 'Jaguar', 'Kia', 'Mitsubishi', 'Rolls-Royce',\n",
        "              'Maserati', 'Pontiac', 'Saturn', 'Bentley', 'Tesla', 'Mazda', 'Subaru', 'Ferrari', 'Aston', 'Acura',\n",
        "              'Lamborghini', 'Chrysler', 'RAM', 'McLaren', 'Lucid', 'Lotus', 'Scion', 'Plymouth', 'Suzuki', 'FIAT',\n",
        "              'Saab', 'Bugatti', 'Mercury', 'Karma', 'Maybach', 'Polestar', 'smart']\n",
        "\n",
        "luxury_cars = ['Lincoln', 'Genesis', 'Mercedes-Benz', 'Audi', 'BMW', 'Cadillac', 'Volvo', 'Porsche', 'Lexus',\n",
        "               'Jaguar', 'Rolls-Royce', 'Maserati', 'Bentley', 'Tesla', 'Ferrari', 'Aston', 'Acura', 'Lamborghini',\n",
        "               'McLaren', 'Lucid', 'Lotus', 'Bugatti', 'Karma', 'Maybach', 'Polestar']\n",
        "\n",
        "transmissions = ['A/T', 'Transmission w/Dual Shift Mode', '7-Speed A/T', '8-Speed A/T', '10-Speed Automatic',\n",
        "                 '1-Speed A/T', '6-Speed A/T', '10-Speed A/T', '9-Speed A/T', '8-Speed Automatic', '9-Speed Automatic',\n",
        "                 '5-Speed A/T', 'Automatic', '7-Speed Automatic with Auto-Shift', 'CVT Transmission', '5-Speed M/T',\n",
        "                 'M/T', '6-Speed M/T', '6-Speed Automatic', '4-Speed Automatic', '7-Speed M/T', '2-Speed A/T',\n",
        "                 '1-Speed Automatic', 'Automatic CVT', '4-Speed A/T', '6-Speed Manual', 'Transmission Overdrive Switch',\n",
        "                 '8-Speed Automatic with Auto-Shift', '7-Speed Manual', '7-Speed Automatic', '9-Speed Automatic with Auto-Shift',\n",
        "                 '6-Speed Automatic with Auto-Shift', '6-Speed Electronically Controlled Automatic with O', 'F', 'CVT-F',\n",
        "                 '8-Speed Manual', 'Manual', '–', '2', '6 Speed At/Mt', '5-Speed Automatic', '2-Speed Automatic',\n",
        "                 '8-SPEED A/T', '7-Speed', 'Variable', 'Single-Speed Fixed Gear', '8-SPEED AT', '10-Speed Automatic with Overdrive',\n",
        "                 '7-Speed DCT Automatic', 'SCHEDULED FOR OR IN PRODUCTION', '6-Speed', '6 Speed Mt']\n",
        "\n",
        "automatic_transmissions = ['A/T', 'Transmission w/Dual Shift Mode', '7-Speed A/T', '8-Speed A/T', '10-Speed Automatic',\n",
        "                           '1-Speed A/T', '6-Speed A/T', '10-Speed A/T', '9-Speed A/T', '8-Speed Automatic', '9-Speed Automatic',\n",
        "                           '5-Speed A/T', 'Automatic', '7-Speed Automatic with Auto-Shift', 'CVT Transmission', '6-Speed Automatic',\n",
        "                           '4-Speed Automatic', '2-Speed A/T', '1-Speed Automatic', 'Automatic CVT', '4-Speed A/T',\n",
        "                           '8-Speed Automatic with Auto-Shift', '7-Speed Automatic', '9-Speed Automatic with Auto-Shift',\n",
        "                           '6-Speed Automatic with Auto-Shift', '6-Speed Electronically Controlled Automatic with O', 'F', 'CVT-F',\n",
        "                           '5-Speed Automatic', '2-Speed Automatic', '8-SPEED A/T', '7-Speed', 'Variable', 'Single-Speed Fixed Gear',\n",
        "                           '8-SPEED AT', '10-Speed Automatic with Overdrive', '7-Speed DCT Automatic']\n",
        "\n",
        "fuel_types = ['Gasoline', 'E85 Flex Fuel', np.nan, 'Hybrid', 'Diesel', 'Plug-In Hybrid', '–', 'not supported']\n",
        "\n",
        "fuel_dict = {\n",
        "    'Gasoline': 1,\n",
        "    'E85 Flex Fuel': 3,\n",
        "    'Hybrid': 5,\n",
        "    'Diesel': 2,\n",
        "    'Plug-In Hybrid': 4,\n",
        "    '–': 0,\n",
        "    'not supported': 0,\n",
        "    np.nan: 0\n",
        "}\n",
        "\n",
        "\n",
        "clean_title_dict = {\n",
        "    'Yes': 1,\n",
        "    np.nan: 0\n",
        "}\n",
        "\n",
        "\n",
        "engines = [\n",
        "    '172.0 HP 1.6L 4 Cylinder Engine Gasoline Fuel',\n",
        "    '252.0 HP 3.9L 8 Cylinder Engine Gasoline Fuel',\n",
        "    '320.0 HP 5.3L 8 Cylinder Engine Flex Fuel Capability',\n",
        "    '78.0 HP 1.2L 3 Cylinder Engine Gasoline Fuel',\n",
        "    '139.0 HP 1.6L 4 Cylinder Engine Plug-In Electric/Gas',\n",
        "    '313.0 HP 2.0L 4 Cylinder Engine Plug-In Electric/Gas',\n",
        "    'Electric Engine',\n",
        "    'Hybrid Engine'\n",
        "]\n",
        "\n",
        "engine_dict = {\n",
        "    '172.0 HP 1.6L 4 Cylinder Engine Gasoline Fuel': 2,\n",
        "    '252.0 HP 3.9L 8 Cylinder Engine Gasoline Fuel': 3,\n",
        "    '320.0 HP 5.3L 8 Cylinder Engine Flex Fuel Capability': 4,\n",
        "    '78.0 HP 1.2L 3 Cylinder Engine Gasoline Fuel': 1,\n",
        "    '139.0 HP 1.6L 4 Cylinder Engine Plug-In Electric/Gas': 5,\n",
        "    '313.0 HP 2.0L 4 Cylinder Engine Plug-In Electric/Gas': 6,\n",
        "    'Electric': 7,\n",
        "    'Hybrid': 8\n",
        "}\n",
        "\n",
        "df = pd.DataFrame({'Engine': [\n",
        "    '172.0 HP 1.6L 4 Cylinder Engine Gasoline Fuel',\n",
        "    '252.0 HP 3.9L 8 Cylinder Engine Gasoline Fuel',\n",
        "    '320.0 HP 5.3L 8 Cylinder Engine Flex Fuel Capability',\n",
        "    '78.0 HP 1.2L 3 Cylinder Engine Gasoline Fuel',\n",
        "    '139.0 HP 1.6L 4 Cylinder Engine Plug-In Electric/Gas',\n",
        "    '313.0 HP 2.0L 4 Cylinder Engine Plug-In Electric/Gas',\n",
        "    'Electric',\n",
        "    'Hybrid',\n",
        "    np.nan\n",
        "]})\n",
        "\n",
        "\n",
        "transmission_dict = {trans: 1 if trans in automatic_transmissions else 0 for trans in transmissions}\n",
        "car_dict = {brand: 1 if brand in luxury_cars else 0 for brand in car_brands}\n",
        "clean_title_values = ['Yes', np.nan]\n",
        "\n",
        "\n",
        "df_train['engineRank'] = df_train['engine'].map(engine_dict).fillna(0).astype(int)\n",
        "df_train['cleanTitleValue'] = df_train['clean_title'].map(clean_title_dict).astype(int)\n",
        "df_train['luxury_brand'] = df_train['brand'].map(car_dict).astype(int)\n",
        "df_train['fuelValue'] = df_train['fuel_type'].map(fuel_dict).astype(int)\n",
        "df_train['isAutomatic'] = df_train['transmission'].map(transmission_dict).astype(int)\n",
        "df_train['model_year'] = df_train['model_year'].astype(int)\n",
        "df_train['car_age'] = current_year - df_train['model_year']\n",
        "\n",
        "dt['engineRank'] = dt['engine'].map(engine_dict).fillna(0).astype(int)\n",
        "dt['cleanTitleValue'] = dt['clean_title'].map(clean_title_dict).astype(int)\n",
        "dt['luxury_brand'] = dt['brand'].map(car_dict).astype(int)\n",
        "dt['fuelValue'] = dt['fuel_type'].map(fuel_dict).astype(int)\n",
        "dt['isAutomatic'] = dt['transmission'].map(transmission_dict).astype(int)\n",
        "dt['model_year'] = dt['model_year'].astype(int)\n",
        "dt['car_age'] = current_year - dt['model_year']"
      ],
      "metadata": {
        "id": "CW0yrqJN_45n"
      },
      "execution_count": 1583,
      "outputs": []
    },
    {
      "cell_type": "code",
      "source": [
        "from sklearn.model_selection import train_test_split\n",
        "\n",
        "x = df_train.drop(['engineRank','fuelValue','luxury_brand','price','brand','model','fuel_type','engine','transmission','accident','clean_title','model_year'], axis = 1)\n",
        "y = df_train['price']\n",
        "\n",
        "X_train, X_test, y_train, y_test = train_test_split(x, y, test_size=0.3, random_state=42)"
      ],
      "metadata": {
        "id": "r1RSub7NsJnp"
      },
      "execution_count": 1584,
      "outputs": []
    },
    {
      "cell_type": "code",
      "source": [
        "df_train.info()"
      ],
      "metadata": {
        "id": "DW_ES9ZD934q",
        "colab": {
          "base_uri": "https://localhost:8080/"
        },
        "outputId": "dab8aa2a-d4a7-4e57-f204-bac72e2ced00"
      },
      "execution_count": 1585,
      "outputs": [
        {
          "output_type": "stream",
          "name": "stdout",
          "text": [
            "<class 'pandas.core.frame.DataFrame'>\n",
            "RangeIndex: 188533 entries, 0 to 188532\n",
            "Data columns (total 16 columns):\n",
            " #   Column           Non-Null Count   Dtype \n",
            "---  ------           --------------   ----- \n",
            " 0   brand            188533 non-null  object\n",
            " 1   model            188533 non-null  object\n",
            " 2   model_year       188533 non-null  int64 \n",
            " 3   milage           188533 non-null  int64 \n",
            " 4   fuel_type        183450 non-null  object\n",
            " 5   engine           188533 non-null  object\n",
            " 6   transmission     188533 non-null  object\n",
            " 7   accident         186081 non-null  object\n",
            " 8   clean_title      167114 non-null  object\n",
            " 9   price            188533 non-null  int64 \n",
            " 10  engineRank       188533 non-null  int64 \n",
            " 11  cleanTitleValue  188533 non-null  int64 \n",
            " 12  luxury_brand     188533 non-null  int64 \n",
            " 13  fuelValue        188533 non-null  int64 \n",
            " 14  isAutomatic      188533 non-null  int64 \n",
            " 15  car_age          188533 non-null  int64 \n",
            "dtypes: int64(9), object(7)\n",
            "memory usage: 23.0+ MB\n"
          ]
        }
      ]
    },
    {
      "cell_type": "code",
      "source": [
        "from sklearn.linear_model import LinearRegression\n",
        "\n",
        "linear_reg = LinearRegression()\n",
        "linear_reg.fit(X_train, y_train)"
      ],
      "metadata": {
        "id": "LYMcpU6q4zom",
        "colab": {
          "base_uri": "https://localhost:8080/",
          "height": 75
        },
        "outputId": "58e1bf48-1d7a-41d7-ada1-93d6d8d157c4"
      },
      "execution_count": 1586,
      "outputs": [
        {
          "output_type": "execute_result",
          "data": {
            "text/plain": [
              "LinearRegression()"
            ],
            "text/html": [
              "<style>#sk-container-id-41 {color: black;}#sk-container-id-41 pre{padding: 0;}#sk-container-id-41 div.sk-toggleable {background-color: white;}#sk-container-id-41 label.sk-toggleable__label {cursor: pointer;display: block;width: 100%;margin-bottom: 0;padding: 0.3em;box-sizing: border-box;text-align: center;}#sk-container-id-41 label.sk-toggleable__label-arrow:before {content: \"▸\";float: left;margin-right: 0.25em;color: #696969;}#sk-container-id-41 label.sk-toggleable__label-arrow:hover:before {color: black;}#sk-container-id-41 div.sk-estimator:hover label.sk-toggleable__label-arrow:before {color: black;}#sk-container-id-41 div.sk-toggleable__content {max-height: 0;max-width: 0;overflow: hidden;text-align: left;background-color: #f0f8ff;}#sk-container-id-41 div.sk-toggleable__content pre {margin: 0.2em;color: black;border-radius: 0.25em;background-color: #f0f8ff;}#sk-container-id-41 input.sk-toggleable__control:checked~div.sk-toggleable__content {max-height: 200px;max-width: 100%;overflow: auto;}#sk-container-id-41 input.sk-toggleable__control:checked~label.sk-toggleable__label-arrow:before {content: \"▾\";}#sk-container-id-41 div.sk-estimator input.sk-toggleable__control:checked~label.sk-toggleable__label {background-color: #d4ebff;}#sk-container-id-41 div.sk-label input.sk-toggleable__control:checked~label.sk-toggleable__label {background-color: #d4ebff;}#sk-container-id-41 input.sk-hidden--visually {border: 0;clip: rect(1px 1px 1px 1px);clip: rect(1px, 1px, 1px, 1px);height: 1px;margin: -1px;overflow: hidden;padding: 0;position: absolute;width: 1px;}#sk-container-id-41 div.sk-estimator {font-family: monospace;background-color: #f0f8ff;border: 1px dotted black;border-radius: 0.25em;box-sizing: border-box;margin-bottom: 0.5em;}#sk-container-id-41 div.sk-estimator:hover {background-color: #d4ebff;}#sk-container-id-41 div.sk-parallel-item::after {content: \"\";width: 100%;border-bottom: 1px solid gray;flex-grow: 1;}#sk-container-id-41 div.sk-label:hover label.sk-toggleable__label {background-color: #d4ebff;}#sk-container-id-41 div.sk-serial::before {content: \"\";position: absolute;border-left: 1px solid gray;box-sizing: border-box;top: 0;bottom: 0;left: 50%;z-index: 0;}#sk-container-id-41 div.sk-serial {display: flex;flex-direction: column;align-items: center;background-color: white;padding-right: 0.2em;padding-left: 0.2em;position: relative;}#sk-container-id-41 div.sk-item {position: relative;z-index: 1;}#sk-container-id-41 div.sk-parallel {display: flex;align-items: stretch;justify-content: center;background-color: white;position: relative;}#sk-container-id-41 div.sk-item::before, #sk-container-id-41 div.sk-parallel-item::before {content: \"\";position: absolute;border-left: 1px solid gray;box-sizing: border-box;top: 0;bottom: 0;left: 50%;z-index: -1;}#sk-container-id-41 div.sk-parallel-item {display: flex;flex-direction: column;z-index: 1;position: relative;background-color: white;}#sk-container-id-41 div.sk-parallel-item:first-child::after {align-self: flex-end;width: 50%;}#sk-container-id-41 div.sk-parallel-item:last-child::after {align-self: flex-start;width: 50%;}#sk-container-id-41 div.sk-parallel-item:only-child::after {width: 0;}#sk-container-id-41 div.sk-dashed-wrapped {border: 1px dashed gray;margin: 0 0.4em 0.5em 0.4em;box-sizing: border-box;padding-bottom: 0.4em;background-color: white;}#sk-container-id-41 div.sk-label label {font-family: monospace;font-weight: bold;display: inline-block;line-height: 1.2em;}#sk-container-id-41 div.sk-label-container {text-align: center;}#sk-container-id-41 div.sk-container {/* jupyter's `normalize.less` sets `[hidden] { display: none; }` but bootstrap.min.css set `[hidden] { display: none !important; }` so we also need the `!important` here to be able to override the default hidden behavior on the sphinx rendered scikit-learn.org. See: https://github.com/scikit-learn/scikit-learn/issues/21755 */display: inline-block !important;position: relative;}#sk-container-id-41 div.sk-text-repr-fallback {display: none;}</style><div id=\"sk-container-id-41\" class=\"sk-top-container\"><div class=\"sk-text-repr-fallback\"><pre>LinearRegression()</pre><b>In a Jupyter environment, please rerun this cell to show the HTML representation or trust the notebook. <br />On GitHub, the HTML representation is unable to render, please try loading this page with nbviewer.org.</b></div><div class=\"sk-container\" hidden><div class=\"sk-item\"><div class=\"sk-estimator sk-toggleable\"><input class=\"sk-toggleable__control sk-hidden--visually\" id=\"sk-estimator-id-41\" type=\"checkbox\" checked><label for=\"sk-estimator-id-41\" class=\"sk-toggleable__label sk-toggleable__label-arrow\">LinearRegression</label><div class=\"sk-toggleable__content\"><pre>LinearRegression()</pre></div></div></div></div></div>"
            ]
          },
          "metadata": {},
          "execution_count": 1586
        }
      ]
    },
    {
      "cell_type": "code",
      "source": [
        "y_pred_train = linear_reg.predict(X_train)\n",
        "y_pred_test = linear_reg.predict(X_test)"
      ],
      "metadata": {
        "id": "JmQjjt6c445O"
      },
      "execution_count": 1587,
      "outputs": []
    },
    {
      "cell_type": "code",
      "source": [
        "train_mse = mean_squared_error(y_train, y_pred_train, squared=False)\n",
        "test_mse = mean_squared_error(y_test, y_pred_test, squared=False)\n",
        "train_r2 = r2_score(y_train, y_pred_train)\n",
        "test_r2 = r2_score(y_test, y_pred_test)\n",
        "\n",
        "print(f\"Training MSE: {train_mse}\")\n",
        "print(f\"Testing MSE: {test_mse}\")\n",
        "print(f\"Training R2 Score: {train_r2}\")\n",
        "print(f\"Testing R2 Score: {test_r2}\")"
      ],
      "metadata": {
        "id": "SEYy8x3h45-1",
        "colab": {
          "base_uri": "https://localhost:8080/"
        },
        "outputId": "7b5a96ad-e917-47ca-ea3c-2e2101503e30"
      },
      "execution_count": 1588,
      "outputs": [
        {
          "output_type": "stream",
          "name": "stdout",
          "text": [
            "Training MSE: 78023.58754198528\n",
            "Testing MSE: 69094.8026263072\n",
            "Training R2 Score: 0.07926414270523541\n",
            "Testing R2 Score: 0.09595694308652902\n"
          ]
        }
      ]
    },
    {
      "cell_type": "code",
      "source": [
        "df_train.info()"
      ],
      "metadata": {
        "id": "bbgOH2tu6hMc",
        "colab": {
          "base_uri": "https://localhost:8080/"
        },
        "outputId": "c300772b-9cb9-459b-9503-406985ac8e16"
      },
      "execution_count": 1589,
      "outputs": [
        {
          "output_type": "stream",
          "name": "stdout",
          "text": [
            "<class 'pandas.core.frame.DataFrame'>\n",
            "RangeIndex: 188533 entries, 0 to 188532\n",
            "Data columns (total 16 columns):\n",
            " #   Column           Non-Null Count   Dtype \n",
            "---  ------           --------------   ----- \n",
            " 0   brand            188533 non-null  object\n",
            " 1   model            188533 non-null  object\n",
            " 2   model_year       188533 non-null  int64 \n",
            " 3   milage           188533 non-null  int64 \n",
            " 4   fuel_type        183450 non-null  object\n",
            " 5   engine           188533 non-null  object\n",
            " 6   transmission     188533 non-null  object\n",
            " 7   accident         186081 non-null  object\n",
            " 8   clean_title      167114 non-null  object\n",
            " 9   price            188533 non-null  int64 \n",
            " 10  engineRank       188533 non-null  int64 \n",
            " 11  cleanTitleValue  188533 non-null  int64 \n",
            " 12  luxury_brand     188533 non-null  int64 \n",
            " 13  fuelValue        188533 non-null  int64 \n",
            " 14  isAutomatic      188533 non-null  int64 \n",
            " 15  car_age          188533 non-null  int64 \n",
            "dtypes: int64(9), object(7)\n",
            "memory usage: 23.0+ MB\n"
          ]
        }
      ]
    },
    {
      "cell_type": "code",
      "source": [
        "dt.drop(['fuelValue','luxury_brand','engineRank','ext_col','id','int_col','brand','model','fuel_type','engine','transmission','accident','clean_title','model_year'],inplace=True,axis=1)"
      ],
      "metadata": {
        "id": "S0G5Uowv7L8s"
      },
      "execution_count": 1590,
      "outputs": []
    },
    {
      "cell_type": "code",
      "source": [
        "dt.info()\n",
        "dt.shape"
      ],
      "metadata": {
        "collapsed": true,
        "id": "ZMStBcQJ6dZT",
        "colab": {
          "base_uri": "https://localhost:8080/"
        },
        "outputId": "639e43cb-c048-4ca1-dbab-6e8058149863"
      },
      "execution_count": 1591,
      "outputs": [
        {
          "output_type": "stream",
          "name": "stdout",
          "text": [
            "<class 'pandas.core.frame.DataFrame'>\n",
            "RangeIndex: 125690 entries, 0 to 125689\n",
            "Data columns (total 4 columns):\n",
            " #   Column           Non-Null Count   Dtype\n",
            "---  ------           --------------   -----\n",
            " 0   milage           125690 non-null  int64\n",
            " 1   cleanTitleValue  125690 non-null  int64\n",
            " 2   isAutomatic      125690 non-null  int64\n",
            " 3   car_age          125690 non-null  int64\n",
            "dtypes: int64(4)\n",
            "memory usage: 3.8 MB\n"
          ]
        },
        {
          "output_type": "execute_result",
          "data": {
            "text/plain": [
              "(125690, 4)"
            ]
          },
          "metadata": {},
          "execution_count": 1591
        }
      ]
    },
    {
      "cell_type": "code",
      "source": [
        "model = LinearRegression()\n",
        "model.fit(X_train, y_train)\n",
        "y_pred = model.predict(X_test)\n",
        "mean_squared_error(y_test, y_pred, squared=False)"
      ],
      "metadata": {
        "id": "Td4DRMlQ8NxL",
        "colab": {
          "base_uri": "https://localhost:8080/"
        },
        "outputId": "2fc5e82c-3aee-4f2d-949e-a24d94967a04"
      },
      "execution_count": 1592,
      "outputs": [
        {
          "output_type": "execute_result",
          "data": {
            "text/plain": [
              "69094.8026263072"
            ]
          },
          "metadata": {},
          "execution_count": 1592
        }
      ]
    },
    {
      "cell_type": "code",
      "source": [
        "id = sf.pop('id')\n",
        "y_pred = model.predict(dt)\n",
        "\n",
        "# Create a submission DataFrame\n",
        "submission_df = pd.DataFrame({\n",
        "    'id': id,\n",
        "    'price': y_pred\n",
        "})\n",
        "\n",
        "# Save the submission DataFrame to a CSV file\n",
        "submission_df.to_csv('submission_file.csv', index=False)\n",
        "print(\"Submission file created: submission_file.csv\")"
      ],
      "metadata": {
        "id": "4gSgQM8o6NRN",
        "colab": {
          "base_uri": "https://localhost:8080/"
        },
        "outputId": "fc20929d-09e3-43c2-c80c-ec41051bf0ab"
      },
      "execution_count": 1593,
      "outputs": [
        {
          "output_type": "stream",
          "name": "stdout",
          "text": [
            "Submission file created: submission_file.csv\n"
          ]
        }
      ]
    }
  ]
}